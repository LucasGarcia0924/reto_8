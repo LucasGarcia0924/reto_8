{
 "cells": [
  {
   "cell_type": "markdown",
   "metadata": {},
   "source": [
    "# Reto #8 Jupyter\n",
    "\n",
    "Solución de los problemas asignados"
   ]
  },
  {
   "cell_type": "markdown",
   "metadata": {},
   "source": [
    "## Punto 1\n",
    "***"
   ]
  },
  {
   "cell_type": "code",
   "execution_count": null,
   "metadata": {},
   "outputs": [],
   "source": [
    "i : int = 1 # Se declaran las variables\n",
    "if __name__ == \"__main__\": # Función Main para iniciar el código\n",
    "    for i in range (1,101): # Se inicia el ciclo para toda i entre 1 y 100\n",
    "        print (i, i**2) # Se imprime el valor de i con su cuadrado"
   ]
  },
  {
   "cell_type": "markdown",
   "metadata": {},
   "source": [
    "## Punto 2\n",
    "***"
   ]
  },
  {
   "cell_type": "code",
   "execution_count": null,
   "metadata": {},
   "outputs": [],
   "source": [
    "i : int  # Se declaran las variables\n",
    "if __name__ == \"__main__\": # Función Main para iniciar el código\n",
    "\n",
    "    print(\"Números impares:\") # Muestra al usuario un título\n",
    "    for i in range (1,1000): # Se inicia el ciclo para toda i entre 1 y 999\n",
    "        if (i % 2) == 0: # Si el módulo de i y 2 es igual a 0, osea es par, continua y no escribe dicho i\n",
    "            continue\n",
    "        print(str(i)) # Muestra al usuario la lista\n",
    "\n",
    "    print(\"Números pares:\") # Muestra al usuario un título\n",
    "    for i in range (1,1001): # Se inicia el ciclo para toda i entre 1 y 1000\n",
    "        if (i % 2) != 0: # Si el módulo de i y 2 es diferente a 0, osea es impar, continua y no escribe dicho i\n",
    "            continue\n",
    "        print(str(i)) # Muestra al usuario la lista"
   ]
  },
  {
   "cell_type": "markdown",
   "metadata": {},
   "source": [
    "## Punto 3\n",
    "***"
   ]
  },
  {
   "cell_type": "code",
   "execution_count": null,
   "metadata": {},
   "outputs": [],
   "source": [
    "if __name__ == \"__main__\": # Función Main para iniciar el código\n",
    "    \n",
    "    num = int(input(\"Digita un número\")) # Se pide ingresar el valor de la variable\n",
    "\n",
    "    for num in range (num, 1, -1): # El ciclo se repite para todo num hasta llegar a ser igual a 2, de -1 en -1\n",
    "        if (num % 2) != 0: # Si el num es impar el ciclo continua pero omite la iteración actual\n",
    "            continue\n",
    "        print(num) # Se muestra el num en la terminal"
   ]
  },
  {
   "cell_type": "markdown",
   "metadata": {},
   "source": [
    "## Punto 4\n",
    "***"
   ]
  },
  {
   "cell_type": "code",
   "execution_count": null,
   "metadata": {},
   "outputs": [],
   "source": [
    "# Se declaran las variables\n",
    "num_anter: int\n",
    "factorial_1: int\n",
    "\n",
    "def factorial_3 (n: int) -> int: # a la función factorial_3 se le ingresa un int y esta entrega un int\n",
    "    # Para el caso especial de 0 se hace un if, ya que no cumple con la formula\n",
    "    if n == 0 or n == 1 :\n",
    "        factorial_1 = 1\n",
    "\n",
    "    # En cualquier otro natural que no sea 0 se sigue el algoritmo\n",
    "    else:\n",
    "        # Se inicializan las variables para el ciclo\n",
    "        num_anter = 1\n",
    "        # El ciclo termina en 2 ya que multiplicar por 1 resulta en el mismo valor\n",
    "        for n in range (n, 1, -1):\n",
    "            # Se multiplica el numero actual por el anterior y se va \"acumulando\" la factorización\n",
    "            factorial_1 = n * num_anter \n",
    "            # Se iguala el num anterior a la factorización para que en la próxima iteración se siga acumulando\n",
    "            num_anter = factorial_1\n",
    "            \n",
    "    return factorial_1\n",
    "\n",
    "if __name__ == \"__main__\": # Función Main para iniciar el código\n",
    "    \n",
    "    number = int(input(\"Ingrese un número\")) # Se pide ingresar un valor para la variable\n",
    "    for number in range (0, number+1): # Se inicia el ciclo para number desde 0 hasta él mismo\n",
    "        factorial_2 = factorial_3(number) # Se llama a la función factorial_3 para que entregue el factorial del numero\n",
    "        print(f\"El número {number} tiene como su factorial a {factorial_2}\") # Se muestran los resultados"
   ]
  },
  {
   "cell_type": "markdown",
   "metadata": {},
   "source": [
    "## Punto 5\n",
    "***"
   ]
  },
  {
   "cell_type": "code",
   "execution_count": null,
   "metadata": {},
   "outputs": [],
   "source": [
    "# Se declaran las variables\n",
    "previo: int = 1\n",
    "potencia: int\n",
    "if __name__ == \"__main__\": # Función Main para iniciar el código\n",
    "    n = int(input(\"El exponente de la potencia es: \")) # Se ingresa el exponente\n",
    "    \n",
    "    for potencia in range (1, n+1): # Se inicia el ciclo desde 1 hasta n\n",
    "        potencia = previo*2 # se multiplica 2 por el producto previo\n",
    "        previo = potencia # Se actualiza la variable para que en la proxima iteración tome el valor del producto\n",
    "    if n == 0: # Si el exponente es 0 la potencia es 1\n",
    "        potencia = 1\n",
    "    print(potencia) # Se muestra el valor de la potencia"
   ]
  },
  {
   "cell_type": "markdown",
   "metadata": {},
   "source": [
    "## Punto 6\n",
    "***"
   ]
  },
  {
   "cell_type": "code",
   "execution_count": null,
   "metadata": {},
   "outputs": [],
   "source": [
    "# Se declaran las variables\n",
    "previo: int = 1\n",
    "potencia: int\n",
    "\n",
    "if __name__ == \"__main__\": # Función Main para iniciar el código\n",
    "    x = float(input(\"La base de la potencia es: \")) # Se ingresa la base\n",
    "    n = int(input(\"El exponente de la potencia es: \")) # Se ingresa el exponente\n",
    "    \n",
    "    for potencia in range (1, n+1): # Se inicia el ciclo desde 1 hasta n\n",
    "        potencia = previo*x # se multiplica la base por el producto previo\n",
    "        previo = potencia # Se actualiza la variable para que en la proxima iteración tome el valor del producto\n",
    "    if n == 0: # Si el exponente es 0 la potencia es 1\n",
    "        potencia = 1\n",
    "    print(potencia) # Se muestra el valor de la potencia"
   ]
  },
  {
   "cell_type": "markdown",
   "metadata": {},
   "source": [
    "## Punto 7\n",
    "***"
   ]
  },
  {
   "cell_type": "code",
   "execution_count": null,
   "metadata": {},
   "outputs": [],
   "source": [
    "# Se declaran las variables\n",
    "i : int\n",
    "multiplicador: int\n",
    "\n",
    "if __name__ == \"__main__\": # Función Main para iniciar el código\n",
    "    i = 1 # Se inicializa la variable para el ciclo\n",
    "\n",
    "    for i in range (1,10): # El ciclo se da para i, desde 1 hasta 9\n",
    "\n",
    "        print(f\"Tabla del {i}\") # Muestra al usuario un título\n",
    "        multiplicador = 1 # Se inicializa la variable para el ciclo\n",
    "        for multiplicador in range (1,11): # El ciclo se da para multiplicador, desde 1 hasta 10\n",
    "            tabla  = i * multiplicador # Se calculan los productos\n",
    "            print(f\"{i} x {multiplicador} = {tabla}\") # Se muestra una línea de una tabla\n",
    "\n",
    "        i += 1 # Se actualiza la variable para que en la proxima iteración tome el valor mayor por 1\n",
    "        print(\"\") # Se imprime salto de línea para mayor organización"
   ]
  },
  {
   "cell_type": "markdown",
   "metadata": {},
   "source": [
    "## Punto 8\n",
    "***"
   ]
  },
  {
   "cell_type": "code",
   "execution_count": null,
   "metadata": {},
   "outputs": [],
   "source": [
    "import math\n",
    "from punto_4 import factorial_3\n",
    "\n",
    "formula = float\n",
    "verdadero: float\n",
    "diferencia: float\n",
    "termino: float\n",
    "n: int\n",
    "\n",
    "if __name__ == \"__main__\": # Función Main para iniciar el código\n",
    "    x = float(input(\"El exponente de la potencia es: \"))\n",
    "    n = 0\n",
    "    diferencia = float('inf')  # Inicializa la diferencia con un valor infinito para entrar en el bucle\n",
    "    \n",
    "    while (diferencia > 0.1): # # Ciclo durante diferencia mayor a 0.1\n",
    "        n += 1\n",
    "        formula = 0\n",
    "        for i in range(n+1): # Para todas las i desde 0 hasta n\n",
    "            formula += (x**i) / factorial_3(i)\n",
    "        \n",
    "        verdadero = math.exp(x)\n",
    "        diferencia = abs(verdadero - formula)  # Valor absoluto de la diferencia entre los valores real y aproximado\n",
    "    # Se muestran resultados\n",
    "    print(f\"Valor real: {verdadero}\")\n",
    "    print(f\"Valor aproximado: {formula}\")\n",
    "    print(f\"Su diferencia: {diferencia}\")\n",
    "    print(f\"Valor de n necesario para que el error sea menor o igual a 0.1: {n}\")\n"
   ]
  },
  {
   "cell_type": "markdown",
   "metadata": {},
   "source": [
    "## Punto 9\n",
    "***"
   ]
  },
  {
   "cell_type": "code",
   "execution_count": null,
   "metadata": {},
   "outputs": [],
   "source": [
    "import math\n",
    "from punto_4 import factorial_3\n",
    "\n",
    "formula = float\n",
    "verdadero: float\n",
    "diferencia: float\n",
    "termino: float\n",
    "n: int\n",
    "\n",
    "if __name__ == \"__main__\": # Función Main para iniciar el código\n",
    "    x = float(input(\"El valor de seno es: \"))\n",
    "    n = 0\n",
    "    diferencia = float('inf')  # Inicializa la diferencia con un valor infinito para entrar en el bucle\n",
    "    \n",
    "    while diferencia > 0.1:\n",
    "        n += 1\n",
    "        formula = 0\n",
    "        for i in range(n+1):  # Itera sobre los primeros n términos de la serie de Maclaurin\n",
    "            if i % 2 == 0:  # Solo considera términos impares\n",
    "                continue\n",
    "            termino = ((-1) ** (i // 2)) * (x ** i) / factorial_3(i)\n",
    "            formula += termino\n",
    "        \n",
    "        verdadero = math.sin(x)\n",
    "        diferencia = abs(verdadero - formula)  # Valor absoluto de la diferencia entre los valores real y aproximado\n",
    "    \n",
    "    # Se muestran resultados\n",
    "    print(f\"Valor real: {verdadero}\")\n",
    "    print(f\"Valor aproximado: {formula}\")\n",
    "    print(f\"Su diferencia: {diferencia}\")\n",
    "    print(f\"Valor de n necesario para que el error sea menor o igual a 0.1: {n}\")"
   ]
  },
  {
   "cell_type": "markdown",
   "metadata": {},
   "source": [
    "## Punto 10\n",
    "***"
   ]
  },
  {
   "cell_type": "code",
   "execution_count": null,
   "metadata": {},
   "outputs": [],
   "source": [
    "import math\n",
    "\n",
    "formula = float\n",
    "verdadero: float\n",
    "diferencia: float\n",
    "termino: float\n",
    "n: int\n",
    "if __name__ == \"__main__\": # Función Main para iniciar el código\n",
    "\n",
    "    x = float(input(\"Digite una x dentro de [-1,1] para hallar el valor de la arcotangente: \"))\n",
    "    n = 0\n",
    "    diferencia = float('inf')  # Inicializa la diferencia con un valor infinito para entrar en el bucle\n",
    "    if -1 < x and x < 1: \n",
    "        while diferencia > 0.1:\n",
    "            n += 1\n",
    "            formula = 0\n",
    "            for i in range(n+1):  # Itera sobre los primeros n términos de la serie de Maclaurin\n",
    "                if i % 2 == 0:  # Solo considera términos impares\n",
    "                    continue\n",
    "                termino = ((-1) ** (i // 2)) * (x ** i) / i\n",
    "                formula += termino\n",
    "            \n",
    "            verdadero = math.atan(x)\n",
    "            diferencia = abs(verdadero - formula)  # Valor absoluto de la diferencia entre los valores\n",
    "        \n",
    "        # Se muestran resultados\n",
    "        print(f\"Valor real: {verdadero}\")\n",
    "        print(f\"Valor aproximado: {formula}\")\n",
    "        print(f\"Su diferencia: {diferencia}\")\n",
    "        print(f\"Valor de n necesario para que el error sea menor o igual a 0.1: {n}\")\n",
    "    else:\n",
    "        print(\"Valor ingresado incorrecto, intente otra vez\")"
   ]
  }
 ],
 "metadata": {
  "kernelspec": {
   "display_name": "Python 3",
   "language": "python",
   "name": "python3"
  },
  "language_info": {
   "codemirror_mode": {
    "name": "ipython",
    "version": 3
   },
   "file_extension": ".py",
   "mimetype": "text/x-python",
   "name": "python",
   "nbconvert_exporter": "python",
   "pygments_lexer": "ipython3",
   "version": "3.12.2"
  }
 },
 "nbformat": 4,
 "nbformat_minor": 2
}
